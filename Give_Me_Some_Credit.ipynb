{
 "cells": [
  {
   "cell_type": "markdown",
   "metadata": {},
   "source": [
    "## 一、前言\n",
    "\n",
    "该模型为Kaggle上经典的风控模型：[Give Me Some Credit](https://www.kaggle.com/c/GiveMeSomeCredit),数据包括了25万条个人财务情况的样本数据，通过对于该数据集的学习，构建一个信用卡评分模型，以期望对新用户预测其违约风险。"
   ]
  },
  {
   "cell_type": "markdown",
   "metadata": {},
   "source": [
    "### 1.1 行业知识简介\n",
    "\n",
    "信用评分模型的书：[陈建的《信用评分模型与应用》](https://pan.baidu.com/s/1980a4)\n",
    "\n",
    "风控模型：先说分类，本文评分卡模型属于**A卡申请者评级模型**\n",
    "\n",
    "\n",
    "信用风险计量体系包括主体评级模型和债项评级两部分。主体评级和债项评级均有一系列评级模型组成，其中主体评级模型可用“四张卡”来表示，分别是A卡、B卡、C卡和F卡；债项评级模型通常按照主体的融资用途，分为企业融资模型、现金流融资模型和项目融资模型等。\n",
    "\n",
    "\n",
    "**A卡，又称为申请者评级模型**，个人用户申请相应的金融产品，对用户进行筛选分类，区分好坏用户，据此决定是否通过申请。在获客过程中用到的信用风险模型。从模型的角度来看，它会对用户未来一定周期内的逾期风险作预测，即模型会在用户授权的情况下收集用户多维度的信息，以此来预测逾期概率。预测的逾期概率被用于风控策略或者转换成信用评分，比如国外经典的FICO评分，国内的蚂蚁信用评分、京东小白评分、携程金融的程信分等。A卡评分除了用于决定是否通过用户的信用申请，还用于风险定价，比如额度、利率等\n",
    "\n",
    "\n",
    "**B卡，又称为行为评级模型**，在用户使用金融产品的过程中，根据用户的历史使用的行为数据对用户进行评级，对可能出现的逾期、延期等行为进行预测。用户拿到信用额度后，模型根据用户的贷中行为数据，进行风险水平的预测。本质上讲，这个模型是一个事件驱动的模型，在互联网金融领域，一般会比A卡的预测时间窗口要短，对用户的行为更为敏感。B卡除了可以用于高风险用户的拦截，也可以作为额度、利率调整的重要参考因素。\n",
    "\n",
    "\n",
    "**C卡，又称为催收评级模型**，对业务中的存量客户是否需要催收进行预测。例如当用户出现逾期时，机构应该先催谁，或者哪些用户不用催，就自动会把钱还回来。催收模型一定程度节约催收成本，提高回催率。\n",
    "\n",
    "\n",
    "**F卡，又称为欺诈评级模型**，对业务中的新用户可能存在的欺诈行为进行预测。根据用户提交的材料进行身份核实，确保用户不存在欺诈行为；\n",
    "\n",
    "风控建模所使用的客户数据主要分为：(1)信贷数据,(2)资质数据,(3)消费数据,(4)行为数据。\n",
    "\n",
    "![替代文字](credit-1.png)\n"
   ]
  },
  {
   "cell_type": "markdown",
   "metadata": {},
   "source": [
    "以及风控中的常用模型：\n",
    "![替代文字](1-4.jpg)"
   ]
  },
  {
   "cell_type": "markdown",
   "metadata": {},
   "source": [
    "### 1.2 项目流程\n",
    "信用风险评级模型的主要开发流程如下：\n",
    "\n",
    "（1） 数据获取，包括获取存量客户及潜在客户的数据。存量客户是指已经在证券公司开展相关融资类业务的客户，包括个人客户和机构客户；潜在客户是指未来拟在证券公司开展相关融资类业务的客户，主要包括机构客户，这也是解决证券业样本较少的常用方法，这些潜在机构客户包括上市公司、公开发行债券的发债主体、新三板上市公司、区域股权交易中心挂牌公司、非标融资机构等。\n",
    "\n",
    "（2） 数据预处理，主要工作包括数据清洗、缺失值处理、异常值处理，主要是为了将获取的原始数据转化为可用作模型开发的格式化数据。\n",
    "\n",
    "（3） 探索性数据分析，该步骤主要是获取样本总体的大概情况，描述样本总体情况的指标主要有直方图、箱形图等。\n",
    "\n",
    "（4） 变量选择，该步骤主要是通过统计学的方法，筛选出对违约状态影响最显著的指标。主要有单变量特征选择方法和基于机器学习模型的方法 。\n",
    "\n",
    "（5） 模型开发，该步骤主要包括变量分段、变量的WOE（证据权重）变换和逻辑回归估算三部分。\n",
    "\n",
    "（6） 模型评估，该步骤主要是评估模型的区分能力、预测能力、稳定性，并形成模型评估报告，得出模型是否可以使用的结论。\n",
    "\n",
    "（7） 信用评分，根据逻辑回归的系数和WOE等确定信用评分的方法。将Logistic模型转换为标准评分的形式。\n",
    "\n",
    "（8） 建立评分系统，根据信用评分方法，建立自动信用评分系统。\n",
    "\n",
    "PS：有些时候为了便于命名，相应的变量用标号代替"
   ]
  },
  {
   "cell_type": "markdown",
   "metadata": {},
   "source": [
    "## 二、项目详情"
   ]
  },
  {
   "cell_type": "markdown",
   "metadata": {},
   "source": [
    "### 2.1 数据获取"
   ]
  },
  {
   "cell_type": "markdown",
   "metadata": {},
   "source": [
    "#### 2.1.1 读取数据"
   ]
  },
  {
   "cell_type": "code",
   "execution_count": 229,
   "metadata": {},
   "outputs": [
    {
     "name": "stdout",
     "output_type": "stream",
     "text": [
      "<class 'pandas.core.frame.DataFrame'>\n",
      "RangeIndex: 150000 entries, 0 to 149999\n",
      "Data columns (total 12 columns):\n",
      " #   Column                                Non-Null Count   Dtype  \n",
      "---  ------                                --------------   -----  \n",
      " 0   Unnamed: 0                            150000 non-null  int64  \n",
      " 1   SeriousDlqin2yrs                      150000 non-null  int64  \n",
      " 2   RevolvingUtilizationOfUnsecuredLines  150000 non-null  float64\n",
      " 3   age                                   150000 non-null  int64  \n",
      " 4   NumberOfTime30-59DaysPastDueNotWorse  150000 non-null  int64  \n",
      " 5   DebtRatio                             150000 non-null  float64\n",
      " 6   MonthlyIncome                         120269 non-null  float64\n",
      " 7   NumberOfOpenCreditLinesAndLoans       150000 non-null  int64  \n",
      " 8   NumberOfTimes90DaysLate               150000 non-null  int64  \n",
      " 9   NumberRealEstateLoansOrLines          150000 non-null  int64  \n",
      " 10  NumberOfTime60-89DaysPastDueNotWorse  150000 non-null  int64  \n",
      " 11  NumberOfDependents                    146076 non-null  float64\n",
      "dtypes: float64(4), int64(8)\n",
      "memory usage: 13.7 MB\n"
     ]
    },
    {
     "data": {
      "text/html": [
       "<div>\n",
       "<style scoped>\n",
       "    .dataframe tbody tr th:only-of-type {\n",
       "        vertical-align: middle;\n",
       "    }\n",
       "\n",
       "    .dataframe tbody tr th {\n",
       "        vertical-align: top;\n",
       "    }\n",
       "\n",
       "    .dataframe thead th {\n",
       "        text-align: right;\n",
       "    }\n",
       "</style>\n",
       "<table border=\"1\" class=\"dataframe\">\n",
       "  <thead>\n",
       "    <tr style=\"text-align: right;\">\n",
       "      <th></th>\n",
       "      <th>Unnamed: 0</th>\n",
       "      <th>SeriousDlqin2yrs</th>\n",
       "      <th>RevolvingUtilizationOfUnsecuredLines</th>\n",
       "      <th>age</th>\n",
       "      <th>NumberOfTime30-59DaysPastDueNotWorse</th>\n",
       "      <th>DebtRatio</th>\n",
       "      <th>MonthlyIncome</th>\n",
       "      <th>NumberOfOpenCreditLinesAndLoans</th>\n",
       "      <th>NumberOfTimes90DaysLate</th>\n",
       "      <th>NumberRealEstateLoansOrLines</th>\n",
       "      <th>NumberOfTime60-89DaysPastDueNotWorse</th>\n",
       "      <th>NumberOfDependents</th>\n",
       "    </tr>\n",
       "  </thead>\n",
       "  <tbody>\n",
       "    <tr>\n",
       "      <th>0</th>\n",
       "      <td>1</td>\n",
       "      <td>1</td>\n",
       "      <td>0.766127</td>\n",
       "      <td>45</td>\n",
       "      <td>2</td>\n",
       "      <td>0.802982</td>\n",
       "      <td>9120.0</td>\n",
       "      <td>13</td>\n",
       "      <td>0</td>\n",
       "      <td>6</td>\n",
       "      <td>0</td>\n",
       "      <td>2.0</td>\n",
       "    </tr>\n",
       "    <tr>\n",
       "      <th>1</th>\n",
       "      <td>2</td>\n",
       "      <td>0</td>\n",
       "      <td>0.957151</td>\n",
       "      <td>40</td>\n",
       "      <td>0</td>\n",
       "      <td>0.121876</td>\n",
       "      <td>2600.0</td>\n",
       "      <td>4</td>\n",
       "      <td>0</td>\n",
       "      <td>0</td>\n",
       "      <td>0</td>\n",
       "      <td>1.0</td>\n",
       "    </tr>\n",
       "    <tr>\n",
       "      <th>2</th>\n",
       "      <td>3</td>\n",
       "      <td>0</td>\n",
       "      <td>0.658180</td>\n",
       "      <td>38</td>\n",
       "      <td>1</td>\n",
       "      <td>0.085113</td>\n",
       "      <td>3042.0</td>\n",
       "      <td>2</td>\n",
       "      <td>1</td>\n",
       "      <td>0</td>\n",
       "      <td>0</td>\n",
       "      <td>0.0</td>\n",
       "    </tr>\n",
       "    <tr>\n",
       "      <th>3</th>\n",
       "      <td>4</td>\n",
       "      <td>0</td>\n",
       "      <td>0.233810</td>\n",
       "      <td>30</td>\n",
       "      <td>0</td>\n",
       "      <td>0.036050</td>\n",
       "      <td>3300.0</td>\n",
       "      <td>5</td>\n",
       "      <td>0</td>\n",
       "      <td>0</td>\n",
       "      <td>0</td>\n",
       "      <td>0.0</td>\n",
       "    </tr>\n",
       "    <tr>\n",
       "      <th>4</th>\n",
       "      <td>5</td>\n",
       "      <td>0</td>\n",
       "      <td>0.907239</td>\n",
       "      <td>49</td>\n",
       "      <td>1</td>\n",
       "      <td>0.024926</td>\n",
       "      <td>63588.0</td>\n",
       "      <td>7</td>\n",
       "      <td>0</td>\n",
       "      <td>1</td>\n",
       "      <td>0</td>\n",
       "      <td>0.0</td>\n",
       "    </tr>\n",
       "  </tbody>\n",
       "</table>\n",
       "</div>"
      ],
      "text/plain": [
       "   Unnamed: 0  SeriousDlqin2yrs  RevolvingUtilizationOfUnsecuredLines  age  \\\n",
       "0           1                 1                              0.766127   45   \n",
       "1           2                 0                              0.957151   40   \n",
       "2           3                 0                              0.658180   38   \n",
       "3           4                 0                              0.233810   30   \n",
       "4           5                 0                              0.907239   49   \n",
       "\n",
       "   NumberOfTime30-59DaysPastDueNotWorse  DebtRatio  MonthlyIncome  \\\n",
       "0                                     2   0.802982         9120.0   \n",
       "1                                     0   0.121876         2600.0   \n",
       "2                                     1   0.085113         3042.0   \n",
       "3                                     0   0.036050         3300.0   \n",
       "4                                     1   0.024926        63588.0   \n",
       "\n",
       "   NumberOfOpenCreditLinesAndLoans  NumberOfTimes90DaysLate  \\\n",
       "0                               13                        0   \n",
       "1                                4                        0   \n",
       "2                                2                        1   \n",
       "3                                5                        0   \n",
       "4                                7                        0   \n",
       "\n",
       "   NumberRealEstateLoansOrLines  NumberOfTime60-89DaysPastDueNotWorse  \\\n",
       "0                             6                                     0   \n",
       "1                             0                                     0   \n",
       "2                             0                                     0   \n",
       "3                             0                                     0   \n",
       "4                             1                                     0   \n",
       "\n",
       "   NumberOfDependents  \n",
       "0                 2.0  \n",
       "1                 1.0  \n",
       "2                 0.0  \n",
       "3                 0.0  \n",
       "4                 0.0  "
      ]
     },
     "execution_count": 229,
     "metadata": {},
     "output_type": "execute_result"
    }
   ],
   "source": [
    "#导入包\n",
    "import pandas as pd\n",
    "import numpy as np\n",
    "import matplotlib.pyplot as plt\n",
    "import matplotlib\n",
    "\n",
    "#导入数据\n",
    "train=pd.read_csv(\"datasets/GiveMeSomeCredit/cs-training.csv\")  #训练集\n",
    "test=pd.read_csv(\"datasets/GiveMeSomeCredit/cs-test.csv\")       #测试集\n",
    "\n",
    "#了解数据集\n",
    "train.info() #给出样本数据的相关信息概览\n",
    "train.head() #查看前5行数据"
   ]
  },
  {
   "cell_type": "markdown",
   "metadata": {},
   "source": [
    "数据来自Kaggle的Give Me Some Credit，训练集有15万条的样本数据，大致情况如下：\n",
    "<table border=\"1\" class=\"dataframe\">\n",
    "  <thead>\n",
    "    <tr style=\"text-align: right;\">\n",
    "      <th></th>\n",
    "      <th>Variable Name</th>\n",
    "      <th>Description</th>\n",
    "      <th>Type</th>\n",
    "    </tr>\n",
    "  </thead>\n",
    "  <tbody>\n",
    "    <tr>\n",
    "      <th>1</th>\n",
    "      <td>SeriousDlqin2yrs（目标值）</td>\n",
    "      <td>是否有超过90天或更长时间逾期未还的不良行为</td>\n",
    "      <td>Y/N（0为好1为坏）</td>\n",
    "    </tr>\n",
    "    <tr>\n",
    "      <th>2</th>\n",
    "      <td>RevolvingUtilizationOfUnsecuredLines</td>\n",
    "      <td>可用额度比值</td>\n",
    "      <td>percentage</td>\n",
    "    </tr>\n",
    "    <tr>\n",
    "      <th>3</th>\n",
    "      <td>age</td>\n",
    "      <td>年龄</td>\n",
    "      <td>integer</td>\n",
    "    </tr>\n",
    "    <tr>\n",
    "      <th>4</th>\n",
    "      <td>NumberOfTime30-59DaysPastDueNotWorse</td>\n",
    "      <td>逾期30-59天笔数</td>\n",
    "      <td>integer</td>\n",
    "    </tr>\n",
    "    <tr>\n",
    "      <th>5</th>\n",
    "      <td>DebtRatio</td>\n",
    "      <td>还款率(每月偿还债务，赡养费，生活费用).</td>\n",
    "      <td>percentage</td>\n",
    "    </tr>\n",
    "    <tr>\n",
    "      <th>6</th>\n",
    "      <td>MonthlyIncome</td>\n",
    "      <td>月收入</td>\n",
    "      <td>real</td>\n",
    "    </tr>\n",
    "    <tr>\n",
    "      <th>7</th>\n",
    "      <td>NumberOfOpenCreditLinesAndLoans</td>\n",
    "      <td>信贷数量</td>\n",
    "      <td>integer</td>\n",
    "    </tr>\n",
    "    <tr>\n",
    "      <th>8</th>\n",
    "      <td>NumberOfTimes90DaysLate</td>\n",
    "      <td>逾期90天笔数</td>\n",
    "      <td>integer</td>\n",
    "    </tr>\n",
    "    <tr>\n",
    "      <th>9</th>\n",
    "      <td>NumberRealEstateLoansOrLines</td>\n",
    "      <td>固定资产贷款量</td>\n",
    "      <td>integer</td>\n",
    "    </tr>\n",
    "    <tr>\n",
    "      <th>10</th>\n",
    "      <td>NumberOfTime60-89DaysPastDueNotWorse</td>\n",
    "      <td>逾期60-89天笔数</td>\n",
    "      <td>integer</td>\n",
    "    </tr>\n",
    "    <tr>\n",
    "      <th>11</th>\n",
    "      <td>NumberOfDependents</td>\n",
    "      <td>家属数量</td>\n",
    "      <td>integer</td>\n",
    "    </tr>\n",
    "  </tbody>\n",
    "</table>\n",
    "\n"
   ]
  },
  {
   "cell_type": "markdown",
   "metadata": {},
   "source": [
    "需要注意的是数据中1为坏客户，0为好客户。"
   ]
  },
  {
   "cell_type": "code",
   "execution_count": 230,
   "metadata": {},
   "outputs": [
    {
     "data": {
      "text/html": [
       "<div>\n",
       "<style scoped>\n",
       "    .dataframe tbody tr th:only-of-type {\n",
       "        vertical-align: middle;\n",
       "    }\n",
       "\n",
       "    .dataframe tbody tr th {\n",
       "        vertical-align: top;\n",
       "    }\n",
       "\n",
       "    .dataframe thead th {\n",
       "        text-align: right;\n",
       "    }\n",
       "</style>\n",
       "<table border=\"1\" class=\"dataframe\">\n",
       "  <thead>\n",
       "    <tr style=\"text-align: right;\">\n",
       "      <th></th>\n",
       "      <th>id</th>\n",
       "      <th>好坏客户</th>\n",
       "      <th>可用额度比值</th>\n",
       "      <th>年龄</th>\n",
       "      <th>逾期30-59天笔数</th>\n",
       "      <th>负债率</th>\n",
       "      <th>月收入</th>\n",
       "      <th>信贷数量</th>\n",
       "      <th>逾期90天笔数</th>\n",
       "      <th>固定资产贷款量</th>\n",
       "      <th>逾期60-89天笔数</th>\n",
       "      <th>家属数量</th>\n",
       "    </tr>\n",
       "  </thead>\n",
       "  <tbody>\n",
       "    <tr>\n",
       "      <th>0</th>\n",
       "      <td>1</td>\n",
       "      <td>1</td>\n",
       "      <td>0.766127</td>\n",
       "      <td>45</td>\n",
       "      <td>2</td>\n",
       "      <td>0.802982</td>\n",
       "      <td>9120.0</td>\n",
       "      <td>13</td>\n",
       "      <td>0</td>\n",
       "      <td>6</td>\n",
       "      <td>0</td>\n",
       "      <td>2.0</td>\n",
       "    </tr>\n",
       "    <tr>\n",
       "      <th>1</th>\n",
       "      <td>2</td>\n",
       "      <td>0</td>\n",
       "      <td>0.957151</td>\n",
       "      <td>40</td>\n",
       "      <td>0</td>\n",
       "      <td>0.121876</td>\n",
       "      <td>2600.0</td>\n",
       "      <td>4</td>\n",
       "      <td>0</td>\n",
       "      <td>0</td>\n",
       "      <td>0</td>\n",
       "      <td>1.0</td>\n",
       "    </tr>\n",
       "    <tr>\n",
       "      <th>2</th>\n",
       "      <td>3</td>\n",
       "      <td>0</td>\n",
       "      <td>0.658180</td>\n",
       "      <td>38</td>\n",
       "      <td>1</td>\n",
       "      <td>0.085113</td>\n",
       "      <td>3042.0</td>\n",
       "      <td>2</td>\n",
       "      <td>1</td>\n",
       "      <td>0</td>\n",
       "      <td>0</td>\n",
       "      <td>0.0</td>\n",
       "    </tr>\n",
       "    <tr>\n",
       "      <th>3</th>\n",
       "      <td>4</td>\n",
       "      <td>0</td>\n",
       "      <td>0.233810</td>\n",
       "      <td>30</td>\n",
       "      <td>0</td>\n",
       "      <td>0.036050</td>\n",
       "      <td>3300.0</td>\n",
       "      <td>5</td>\n",
       "      <td>0</td>\n",
       "      <td>0</td>\n",
       "      <td>0</td>\n",
       "      <td>0.0</td>\n",
       "    </tr>\n",
       "    <tr>\n",
       "      <th>4</th>\n",
       "      <td>5</td>\n",
       "      <td>0</td>\n",
       "      <td>0.907239</td>\n",
       "      <td>49</td>\n",
       "      <td>1</td>\n",
       "      <td>0.024926</td>\n",
       "      <td>63588.0</td>\n",
       "      <td>7</td>\n",
       "      <td>0</td>\n",
       "      <td>1</td>\n",
       "      <td>0</td>\n",
       "      <td>0.0</td>\n",
       "    </tr>\n",
       "  </tbody>\n",
       "</table>\n",
       "</div>"
      ],
      "text/plain": [
       "   id  好坏客户    可用额度比值  年龄  逾期30-59天笔数       负债率      月收入  信贷数量  逾期90天笔数  \\\n",
       "0   1     1  0.766127  45           2  0.802982   9120.0    13        0   \n",
       "1   2     0  0.957151  40           0  0.121876   2600.0     4        0   \n",
       "2   3     0  0.658180  38           1  0.085113   3042.0     2        1   \n",
       "3   4     0  0.233810  30           0  0.036050   3300.0     5        0   \n",
       "4   5     0  0.907239  49           1  0.024926  63588.0     7        0   \n",
       "\n",
       "   固定资产贷款量  逾期60-89天笔数  家属数量  \n",
       "0        6           0   2.0  \n",
       "1        0           0   1.0  \n",
       "2        0           0   0.0  \n",
       "3        0           0   0.0  \n",
       "4        1           0   0.0  "
      ]
     },
     "execution_count": 230,
     "metadata": {},
     "output_type": "execute_result"
    }
   ],
   "source": [
    "#将变量名换为中文便于理解\n",
    "states={\n",
    "        'Unnamed: 0':'id',\n",
    "        'SeriousDlqin2yrs':'好坏客户',\n",
    "        'RevolvingUtilizationOfUnsecuredLines':'可用额度比值', #无担保放款循环利用比值\n",
    "        'age':'年龄',\n",
    "        'NumberOfTime30-59DaysPastDueNotWorse':'逾期30-59天笔数',\n",
    "        'DebtRatio':'负债率',\n",
    "        'MonthlyIncome':'月收入',\n",
    "        'NumberOfOpenCreditLinesAndLoans':'信贷数量',\n",
    "        'NumberOfTimes90DaysLate':'逾期90天笔数',\n",
    "        'NumberRealEstateLoansOrLines':'固定资产贷款量',\n",
    "        'NumberOfTime60-89DaysPastDueNotWorse':'逾期60-89天笔数',\n",
    "        'NumberOfDependents':'家属数量'\n",
    "         } #创建字典\n",
    "\n",
    "train.rename(columns=states,inplace=True)\n",
    "test.rename(columns=states,inplace=True)\n",
    "train.head()"
   ]
  },
  {
   "cell_type": "markdown",
   "metadata": {},
   "source": [
    "### 2.2 数据预处理"
   ]
  },
  {
   "cell_type": "markdown",
   "metadata": {},
   "source": [
    "#### 2.2.1 观察数据"
   ]
  },
  {
   "cell_type": "code",
   "execution_count": 231,
   "metadata": {
    "scrolled": true
   },
   "outputs": [
    {
     "name": "stdout",
     "output_type": "stream",
     "text": [
      "<class 'pandas.core.frame.DataFrame'>\n",
      "RangeIndex: 150000 entries, 0 to 149999\n",
      "Data columns (total 12 columns):\n",
      " #   Column                                Non-Null Count   Dtype  \n",
      "---  ------                                --------------   -----  \n",
      " 0   Unnamed: 0                            150000 non-null  int64  \n",
      " 1   SeriousDlqin2yrs                      150000 non-null  int64  \n",
      " 2   RevolvingUtilizationOfUnsecuredLines  150000 non-null  float64\n",
      " 3   age                                   150000 non-null  int64  \n",
      " 4   NumberOfTime30-59DaysPastDueNotWorse  150000 non-null  int64  \n",
      " 5   DebtRatio                             150000 non-null  float64\n",
      " 6   MonthlyIncome                         120269 non-null  float64\n",
      " 7   NumberOfOpenCreditLinesAndLoans       150000 non-null  int64  \n",
      " 8   NumberOfTimes90DaysLate               150000 non-null  int64  \n",
      " 9   NumberRealEstateLoansOrLines          150000 non-null  int64  \n",
      " 10  NumberOfTime60-89DaysPastDueNotWorse  150000 non-null  int64  \n",
      " 11  NumberOfDependents                    146076 non-null  float64\n",
      "dtypes: float64(4), int64(8)\n",
      "memory usage: 13.7 MB\n"
     ]
    }
   ],
   "source": [
    "train_df.info()"
   ]
  },
  {
   "cell_type": "markdown",
   "metadata": {},
   "source": [
    "我们发现Monthly Income(月薪)和Number of Dependents(亲属数量)有缺失值。"
   ]
  },
  {
   "cell_type": "code",
   "execution_count": 232,
   "metadata": {},
   "outputs": [
    {
     "name": "stdout",
     "output_type": "stream",
     "text": [
      "月收入缺失比：19.82%\n",
      "家属数量缺失比：2.62%\n"
     ]
    }
   ],
   "source": [
    "#求两个变量的缺失比\n",
    "print(\"月收入缺失比：{:.2%}\".format(train['月收入'].isnull().sum()/train.shape[0]))\n",
    "print(\"家属数量缺失比：{:.2%}\".format(train['家属数量'].isnull().sum()/train.shape[0]))"
   ]
  },
  {
   "cell_type": "markdown",
   "metadata": {},
   "source": [
    "#### 2.2.2 缺失值处理\n",
    "\n",
    "NumberOfDependents变量缺失值比较少，直接删除，对总体模型不会造成太大影响。对缺失值处理完之后，删除重复项。\n",
    "\n",
    "同时为了节省时间，这里我们使用均值插补月收入的缺失。"
   ]
  },
  {
   "cell_type": "code",
   "execution_count": 233,
   "metadata": {},
   "outputs": [
    {
     "name": "stdout",
     "output_type": "stream",
     "text": [
      "<class 'pandas.core.frame.DataFrame'>\n",
      "Int64Index: 146076 entries, 0 to 149999\n",
      "Data columns (total 12 columns):\n",
      " #   Column      Non-Null Count   Dtype  \n",
      "---  ------      --------------   -----  \n",
      " 0   id          146076 non-null  int64  \n",
      " 1   好坏客户        146076 non-null  int64  \n",
      " 2   可用额度比值      146076 non-null  float64\n",
      " 3   年龄          146076 non-null  int64  \n",
      " 4   逾期30-59天笔数  146076 non-null  int64  \n",
      " 5   负债率         146076 non-null  float64\n",
      " 6   月收入         146076 non-null  float64\n",
      " 7   信贷数量        146076 non-null  int64  \n",
      " 8   逾期90天笔数     146076 non-null  int64  \n",
      " 9   固定资产贷款量     146076 non-null  int64  \n",
      " 10  逾期60-89天笔数  146076 non-null  int64  \n",
      " 11  家属数量        146076 non-null  float64\n",
      "dtypes: float64(4), int64(8)\n",
      "memory usage: 14.5 MB\n"
     ]
    }
   ],
   "source": [
    "#用均值填补月收入缺失值\n",
    "train['月收入']=train['月收入'].fillna(train['月收入'].mean())\n",
    "\n",
    "#删除存在缺失值的样本\n",
    "train=train.dropna()\n",
    "train.info()"
   ]
  },
  {
   "cell_type": "markdown",
   "metadata": {},
   "source": [
    "#### 2.2.3 异常值处理\n",
    "\n",
    "这里我们使用箱线图寻找异常值并去除上下限外的离群值。"
   ]
  },
  {
   "cell_type": "code",
   "execution_count": 234,
   "metadata": {},
   "outputs": [
    {
     "data": {
      "text/plain": [
       "{'whiskers': [<matplotlib.lines.Line2D at 0x1a424b0b90>,\n",
       "  <matplotlib.lines.Line2D at 0x1a4a8e65d0>],\n",
       " 'caps': [<matplotlib.lines.Line2D at 0x1a4a8e6ad0>,\n",
       "  <matplotlib.lines.Line2D at 0x1a4a8e6fd0>],\n",
       " 'boxes': [<matplotlib.lines.Line2D at 0x1a4247e810>],\n",
       " 'medians': [<matplotlib.lines.Line2D at 0x1a4a8ef550>],\n",
       " 'fliers': [<matplotlib.lines.Line2D at 0x1a4a8efa50>],\n",
       " 'means': []}"
      ]
     },
     "execution_count": 234,
     "metadata": {},
     "output_type": "execute_result"
    },
    {
     "data": {
      "image/png": "[encoded data removed]",
      "text/plain": [
       "<Figure size 1080x720 with 6 Axes>"
      ]
     },
     "metadata": {
      "needs_background": "light"
     },
     "output_type": "display_data"
    }
   ],
   "source": [
    "'''画箱线图，采用组合图的方式'''\n",
    "#建立画板和画纸\n",
    "fig=plt.figure(figsize=(15,10))\n",
    "a=fig.add_subplot(3,2,1)\n",
    "b=fig.add_subplot(3,2,2)\n",
    "c=fig.add_subplot(3,2,3)\n",
    "d=fig.add_subplot(3,2,4)\n",
    "e=fig.add_subplot(3,2,5)\n",
    "f=fig.add_subplot(3,2,6)\n",
    "\n",
    "a.boxplot(train['可用额度比值'])\n",
    "b.boxplot([train['年龄']])\n",
    "c.boxplot([train['逾期30-59天笔数'],train['逾期60-89天笔数'],train['逾期90天笔数']])\n",
    "d.boxplot([train['信贷数量'],train['固定资产贷款量'],train['家属数量']])\n",
    "e.boxplot(train['月收入'])\n",
    "f.boxplot(train['负债率'])"
   ]
  },
  {
   "cell_type": "code",
   "execution_count": 235,
   "metadata": {},
   "outputs": [
    {
     "data": {
      "text/html": [
       "<div>\n",
       "<style scoped>\n",
       "    .dataframe tbody tr th:only-of-type {\n",
       "        vertical-align: middle;\n",
       "    }\n",
       "\n",
       "    .dataframe tbody tr th {\n",
       "        vertical-align: top;\n",
       "    }\n",
       "\n",
       "    .dataframe thead th {\n",
       "        text-align: right;\n",
       "    }\n",
       "</style>\n",
       "<table border=\"1\" class=\"dataframe\">\n",
       "  <thead>\n",
       "    <tr style=\"text-align: right;\">\n",
       "      <th></th>\n",
       "      <th>id</th>\n",
       "      <th>好坏客户</th>\n",
       "      <th>可用额度比值</th>\n",
       "      <th>年龄</th>\n",
       "      <th>逾期30-59天笔数</th>\n",
       "      <th>负债率</th>\n",
       "      <th>月收入</th>\n",
       "      <th>信贷数量</th>\n",
       "      <th>逾期90天笔数</th>\n",
       "      <th>固定资产贷款量</th>\n",
       "      <th>逾期60-89天笔数</th>\n",
       "      <th>家属数量</th>\n",
       "    </tr>\n",
       "  </thead>\n",
       "  <tbody>\n",
       "    <tr>\n",
       "      <th>count</th>\n",
       "      <td>144611.000000</td>\n",
       "      <td>144611.000000</td>\n",
       "      <td>144611.000000</td>\n",
       "      <td>144611.000000</td>\n",
       "      <td>144611.000000</td>\n",
       "      <td>144611.000000</td>\n",
       "      <td>144611.000000</td>\n",
       "      <td>144611.000000</td>\n",
       "      <td>144611.000000</td>\n",
       "      <td>144611.000000</td>\n",
       "      <td>144611.000000</td>\n",
       "      <td>144611.000000</td>\n",
       "    </tr>\n",
       "    <tr>\n",
       "      <th>mean</th>\n",
       "      <td>75013.808853</td>\n",
       "      <td>0.064905</td>\n",
       "      <td>0.317214</td>\n",
       "      <td>52.162851</td>\n",
       "      <td>0.245452</td>\n",
       "      <td>334.966009</td>\n",
       "      <td>6418.097528</td>\n",
       "      <td>8.555200</td>\n",
       "      <td>0.086439</td>\n",
       "      <td>1.031104</td>\n",
       "      <td>0.062997</td>\n",
       "      <td>0.756208</td>\n",
       "    </tr>\n",
       "    <tr>\n",
       "      <th>std</th>\n",
       "      <td>43292.065365</td>\n",
       "      <td>0.246359</td>\n",
       "      <td>0.347348</td>\n",
       "      <td>14.589202</td>\n",
       "      <td>0.697743</td>\n",
       "      <td>1951.663544</td>\n",
       "      <td>4152.867824</td>\n",
       "      <td>5.138551</td>\n",
       "      <td>0.468254</td>\n",
       "      <td>1.122021</td>\n",
       "      <td>0.322819</td>\n",
       "      <td>1.113204</td>\n",
       "    </tr>\n",
       "    <tr>\n",
       "      <th>min</th>\n",
       "      <td>1.000000</td>\n",
       "      <td>0.000000</td>\n",
       "      <td>0.000000</td>\n",
       "      <td>0.000000</td>\n",
       "      <td>0.000000</td>\n",
       "      <td>0.000000</td>\n",
       "      <td>0.000000</td>\n",
       "      <td>0.000000</td>\n",
       "      <td>0.000000</td>\n",
       "      <td>0.000000</td>\n",
       "      <td>0.000000</td>\n",
       "      <td>0.000000</td>\n",
       "    </tr>\n",
       "    <tr>\n",
       "      <th>25%</th>\n",
       "      <td>37532.500000</td>\n",
       "      <td>0.000000</td>\n",
       "      <td>0.030537</td>\n",
       "      <td>41.000000</td>\n",
       "      <td>0.000000</td>\n",
       "      <td>0.173957</td>\n",
       "      <td>3830.000000</td>\n",
       "      <td>5.000000</td>\n",
       "      <td>0.000000</td>\n",
       "      <td>0.000000</td>\n",
       "      <td>0.000000</td>\n",
       "      <td>0.000000</td>\n",
       "    </tr>\n",
       "    <tr>\n",
       "      <th>50%</th>\n",
       "      <td>75020.000000</td>\n",
       "      <td>0.000000</td>\n",
       "      <td>0.155520</td>\n",
       "      <td>52.000000</td>\n",
       "      <td>0.000000</td>\n",
       "      <td>0.359238</td>\n",
       "      <td>6400.000000</td>\n",
       "      <td>8.000000</td>\n",
       "      <td>0.000000</td>\n",
       "      <td>1.000000</td>\n",
       "      <td>0.000000</td>\n",
       "      <td>0.000000</td>\n",
       "    </tr>\n",
       "    <tr>\n",
       "      <th>75%</th>\n",
       "      <td>112484.500000</td>\n",
       "      <td>0.000000</td>\n",
       "      <td>0.548916</td>\n",
       "      <td>62.000000</td>\n",
       "      <td>0.000000</td>\n",
       "      <td>0.769355</td>\n",
       "      <td>7500.000000</td>\n",
       "      <td>11.000000</td>\n",
       "      <td>0.000000</td>\n",
       "      <td>2.000000</td>\n",
       "      <td>0.000000</td>\n",
       "      <td>1.000000</td>\n",
       "    </tr>\n",
       "    <tr>\n",
       "      <th>max</th>\n",
       "      <td>150000.000000</td>\n",
       "      <td>1.000000</td>\n",
       "      <td>1.249405</td>\n",
       "      <td>99.000000</td>\n",
       "      <td>13.000000</td>\n",
       "      <td>329664.000000</td>\n",
       "      <td>49750.000000</td>\n",
       "      <td>58.000000</td>\n",
       "      <td>17.000000</td>\n",
       "      <td>54.000000</td>\n",
       "      <td>11.000000</td>\n",
       "      <td>13.000000</td>\n",
       "    </tr>\n",
       "  </tbody>\n",
       "</table>\n",
       "</div>"
      ],
      "text/plain": [
       "                  id           好坏客户         可用额度比值             年龄  \\\n",
       "count  144611.000000  144611.000000  144611.000000  144611.000000   \n",
       "mean    75013.808853       0.064905       0.317214      52.162851   \n",
       "std     43292.065365       0.246359       0.347348      14.589202   \n",
       "min         1.000000       0.000000       0.000000       0.000000   \n",
       "25%     37532.500000       0.000000       0.030537      41.000000   \n",
       "50%     75020.000000       0.000000       0.155520      52.000000   \n",
       "75%    112484.500000       0.000000       0.548916      62.000000   \n",
       "max    150000.000000       1.000000       1.249405      99.000000   \n",
       "\n",
       "          逾期30-59天笔数            负债率            月收入           信贷数量  \\\n",
       "count  144611.000000  144611.000000  144611.000000  144611.000000   \n",
       "mean        0.245452     334.966009    6418.097528       8.555200   \n",
       "std         0.697743    1951.663544    4152.867824       5.138551   \n",
       "min         0.000000       0.000000       0.000000       0.000000   \n",
       "25%         0.000000       0.173957    3830.000000       5.000000   \n",
       "50%         0.000000       0.359238    6400.000000       8.000000   \n",
       "75%         0.000000       0.769355    7500.000000      11.000000   \n",
       "max        13.000000  329664.000000   49750.000000      58.000000   \n",
       "\n",
       "             逾期90天笔数        固定资产贷款量     逾期60-89天笔数           家属数量  \n",
       "count  144611.000000  144611.000000  144611.000000  144611.000000  \n",
       "mean        0.086439       1.031104       0.062997       0.756208  \n",
       "std         0.468254       1.122021       0.322819       1.113204  \n",
       "min         0.000000       0.000000       0.000000       0.000000  \n",
       "25%         0.000000       0.000000       0.000000       0.000000  \n",
       "50%         0.000000       1.000000       0.000000       0.000000  \n",
       "75%         0.000000       2.000000       0.000000       1.000000  \n",
       "max        17.000000      54.000000      11.000000      13.000000  "
      ]
     },
     "execution_count": 235,
     "metadata": {},
     "output_type": "execute_result"
    }
   ],
   "source": [
    "#分别去掉各变量的异常值\n",
    "train=train[train['可用额度比值']<1.25]\n",
    "train=train[train['年龄']<100]\n",
    "train=train[train['逾期30-59天笔数']<80]\n",
    "train=train[train['月收入']<50000]\n",
    "train=train[train['逾期90天笔数']<80]\n",
    "train=train[train['逾期60-89天笔数']<80]\n",
    "train=train[train['家属数量']<20]\n",
    "\n",
    "\n",
    "#去掉重复样本\n",
    "train.drop_duplicates(inplace=True)\n",
    "train.describe() "
   ]
  },
  {
   "cell_type": "markdown",
   "metadata": {},
   "source": [
    "### 2.3 探索性数据分析（EDA)"
   ]
  },
  {
   "cell_type": "code",
   "execution_count": 236,
   "metadata": {},
   "outputs": [
    {
     "data": {
      "text/plain": [
       "array([[<matplotlib.axes._subplots.AxesSubplot object at 0x1a4a496310>,\n",
       "        <matplotlib.axes._subplots.AxesSubplot object at 0x1a4a700cd0>,\n",
       "        <matplotlib.axes._subplots.AxesSubplot object at 0x1a4a729fd0>],\n",
       "       [<matplotlib.axes._subplots.AxesSubplot object at 0x1a4a8a4710>,\n",
       "        <matplotlib.axes._subplots.AxesSubplot object at 0x1a4a940f10>,\n",
       "        <matplotlib.axes._subplots.AxesSubplot object at 0x1a4ae57750>],\n",
       "       [<matplotlib.axes._subplots.AxesSubplot object at 0x1a4b337f50>,\n",
       "        <matplotlib.axes._subplots.AxesSubplot object at 0x1a4b379790>,\n",
       "        <matplotlib.axes._subplots.AxesSubplot object at 0x1a4b3832d0>],\n",
       "       [<matplotlib.axes._subplots.AxesSubplot object at 0x1a4b3b8c50>,\n",
       "        <matplotlib.axes._subplots.AxesSubplot object at 0x1a4b422fd0>,\n",
       "        <matplotlib.axes._subplots.AxesSubplot object at 0x1a4e7db810>]],\n",
       "      dtype=object)"
      ]
     },
     "execution_count": 236,
     "metadata": {},
     "output_type": "execute_result"
    },
    {
     "data": {
      "image/png": "[encoded data removed]",
      "text/plain": [
       "<Figure size 1440x1080 with 12 Axes>"
      ]
     },
     "metadata": {
      "needs_background": "light"
     },
     "output_type": "display_data"
    }
   ],
   "source": [
    "# 设置matplotlib正常显示中文和负号\n",
    "matplotlib.rcParams['font.sans-serif']=['Songti SC']   # 用宋体显示中文\n",
    "matplotlib.rcParams['axes.unicode_minus']=False     # 正常显示负号\n",
    "train.hist(bins=50,figsize=(20,15))"
   ]
  },
  {
   "cell_type": "markdown",
   "metadata": {},
   "source": [
    "### 2.4 变量选择\n",
    "\n",
    "本项目其实主要目的是为了预测新样本为好/坏客户，训练集有标签标记，是有监督学习，一个二分类问题，可以采用logistic回归进行分类，为了训练处分类器，要进行自变量的选择，可以采用IV（Information Value 信息量）来判断选择，IV可以衡量自变量的预测能力，IV计算要以WOE（证据权重）为基础，WOE是对原始自变量的一种编码形式，要对一个变量进行WOE编码，需要首先把这个变量进行分组处理（也叫离散化、分箱等等），因此，对项目中的连续型变量进行分箱处理。\n",
    "![替代文字](2-3.png)"
   ]
  },
  {
   "cell_type": "markdown",
   "metadata": {},
   "source": [
    "#### 2.4.1 分箱处理\n",
    "变量分箱（binning）是对连续变量离散化（discretization）的一种称呼。\n",
    "\n",
    "信用评分卡开发中一般有常用的等距分段、等深分段、最优分段。\n",
    "\n",
    "其中等距分段（Equval length intervals）是指分段的区间是一致的，比如年龄以十年作为一个分段；\n",
    "\n",
    "等深分段（Equal frequency intervals）是先确定分段数量，然后令每个分段中数据数量大致相等；\n",
    "\n",
    "最优分段（Optimal Binning）又叫监督离散化（supervised discretizaion），使用递归划分（Recursive Partitioning）将连续变量分为分段，背后是一种基于条件推断查找较佳分组的算法。\n",
    "\n"
   ]
  },
  {
   "cell_type": "code",
   "execution_count": 237,
   "metadata": {},
   "outputs": [],
   "source": [
    "# 我们首先选择对连续变量进行最优分段，在连续变量的分布不满足最优分段的要求时，再考虑对连续变量进行等距分段。\n",
    "# 其中可用额度比值，年龄，负债率和月收入为连续函数。\n",
    "# 最优分箱的代码如下：\n",
    "from scipy import stats #加载包 \n",
    "#定义自动分箱函数，采用最优分段进行分箱\n",
    "'''采用斯皮尔曼等级相关系数进行变量相关分析，该相关系数对两个变量划分等级在进行分析，[-1,1]，\n",
    "当两个变量完全单调相关时，斯皮尔曼相关系数则为+1或−1'''\n",
    "\n",
    "def op(Y, X, n = 20):\n",
    "    r = 0\n",
    "    good=Y.sum()\n",
    "    bad=Y.count()-good\n",
    "    while np.abs(r) < 1:\n",
    "        d1 = pd.DataFrame({\"X\": X, \"Y\": Y, \"Bucket\": pd.qcut(X, n,duplicates=\"drop\")}) \n",
    "        # 后面报错You can drop duplicate edges by setting the 'duplicates' kwarg，所以回到这里补充duplicates参数\n",
    "        # pandas中使用qcut()，边界易出现重复值，如果为了删除重复值设置 duplicates=‘drop’，则易出现于分片个数少于指定个数的问题\n",
    "        # 经尝试，设置duplicates参数为“drop”可行，而不能设置为“raise”。\n",
    "        d2 = d1.groupby('Bucket', as_index = True)\n",
    "        r, p = stats.spearmanr(d2.mean().X, d2.mean().Y)\n",
    "        n = n - 1\n",
    "    d3 = pd.DataFrame(d2.X.min(), columns = ['min'])\n",
    "    d3['min']=d2.min().X\n",
    "    d3['max'] = d2.max().X\n",
    "    d3['sum'] = d2.sum().Y\n",
    "    d3['total'] = d2.count().Y\n",
    "    d3['rate'] = d2.mean().Y\n",
    "    d3['woe']=np.log((d3['rate']/(1-d3['rate']))/(good/bad))\n",
    "    d4 = (d3.sort_values(by = 'min')).reset_index(drop=True)\n",
    "    print(\"=\" * 60)\n",
    "    print(d4)\n",
    "    woe=list(d4['woe'].round(3))\n",
    "    return d4"
   ]
  },
  {
   "cell_type": "code",
   "execution_count": 238,
   "metadata": {},
   "outputs": [
    {
     "name": "stdout",
     "output_type": "stream",
     "text": [
      "============================================================\n",
      "        min       max   sum  total      rate       woe\n",
      "0  0.000000  0.030537   673  36153  0.018615 -1.297258\n",
      "1  0.030538  0.155520   729  36153  0.020164 -1.215750\n",
      "2  0.155526  0.548897  1792  36152  0.049568 -0.285840\n",
      "3  0.548934  1.249405  6192  36153  0.171272  1.091082\n",
      "============================================================\n",
      "    min  max   sum  total      rate       woe\n",
      "0     0   30  1095  10093  0.108491  0.561473\n",
      "1    31   34   845   8247  0.102462  0.497552\n",
      "2    35   38   890   9516  0.093527  0.396406\n",
      "3    39   41   792   9008  0.087922  0.328443\n",
      "4    42   43   524   6167  0.084968  0.291041\n",
      "5    44   46   814  10290  0.079106  0.213164\n",
      "6    47   48   565   7342  0.076955  0.183257\n",
      "7    49   50   568   7417  0.076581  0.177984\n",
      "8    51   53   763  10567  0.072206  0.114433\n",
      "9    54   55   434   6762  0.064182 -0.011974\n",
      "10   56   58   525  10104  0.051960 -0.236209\n",
      "11   59   61   464   9734  0.047668 -0.326933\n",
      "12   62   63   281   7053  0.039841 -0.514476\n",
      "13   64   66   246   7827  0.031430 -0.760348\n",
      "14   67   70   202   8114  0.024895 -1.000147\n",
      "15   71   76   204   8251  0.024724 -1.007214\n",
      "16   77   99   174   8119  0.021431 -1.153522\n",
      "============================================================\n",
      "        min            max   sum  total      rate       woe\n",
      "0  0.000000       0.235541  2729  48204  0.056614 -0.145507\n",
      "1  0.235543       0.544208  2931  48203  0.060805 -0.069624\n",
      "2  0.544222  329664.000000  3726  48204  0.077296  0.188061\n",
      "============================================================\n",
      "      min           max   sum  total      rate       woe\n",
      "0     0.0   3000.000000  2122  24769  0.085672  0.300052\n",
      "1  3001.0   4583.000000  1933  23437  0.082476  0.258555\n",
      "2  4584.0   6400.000000  1653  24131  0.068501  0.057776\n",
      "3  6401.0   6670.221237  1581  28651  0.055181 -0.172648\n",
      "4  6671.0   9000.000000  1037  19741  0.052530 -0.224685\n",
      "5  9001.0  49750.000000  1060  23882  0.044385 -0.401735\n"
     ]
    }
   ],
   "source": [
    "#利用所定义的函数依次对连续型变量进行最优分段分箱处理,满足条件的有以下\n",
    "x1=op(train['好坏客户'],train['可用额度比值'])\n",
    "x2=op(train['好坏客户'],train['年龄'])\n",
    "x4=op(train['好坏客户'],train['负债率'])  \n",
    "x5=op(train['好坏客户'],train['月收入'])"
   ]
  },
  {
   "cell_type": "code",
   "execution_count": 239,
   "metadata": {},
   "outputs": [
    {
     "name": "stdout",
     "output_type": "stream",
     "text": [
      "                      坏客户数   好客户数       woe        iv\n",
      "逾期30-59天笔数                                           \n",
      "(0.999, 28923.0]      1159  27764 -0.508462  0.041610\n",
      "(28923.0, 57845.0]    1176  27746 -0.493252  0.039406\n",
      "(57845.0, 86767.0]    1130  27792 -0.534810  0.045529\n",
      "(86767.0, 115689.0]   1128  27794 -0.536653  0.045809\n",
      "(115689.0, 144611.0]  4793  24129  1.051463  0.349315\n",
      "                         坏客户数   好客户数       woe        iv\n",
      "信贷数量                                                    \n",
      "(0.999, 24102.667]       2283  21819  0.410430  0.033607\n",
      "(24102.667, 48204.333]   1464  22638 -0.070737  0.000809\n",
      "(48204.333, 72306.0]     1271  22831 -0.220594  0.007373\n",
      "(72306.0, 96407.667]     1327  22774 -0.174978  0.004730\n",
      "(96407.667, 120509.333]  1400  22702 -0.118260  0.002214\n",
      "(120509.333, 144611.0]   1641  22461  0.051246  0.000448\n",
      "                      坏客户数   好客户数       woe        iv\n",
      "逾期90天笔数                                              \n",
      "(0.999, 28923.0]      1294  27629 -0.393407  0.026143\n",
      "(28923.0, 57845.0]    1353  27569 -0.346647  0.020703\n",
      "(57845.0, 86767.0]    1320  27602 -0.372536  0.023650\n",
      "(86767.0, 115689.0]   1342  27580 -0.355209  0.021660\n",
      "(115689.0, 144611.0]  4077  24845  0.860426  0.215657\n",
      "                      坏客户数   好客户数       woe        iv\n",
      "固定资产贷款量                                              \n",
      "(0.999, 28923.0]      2324  26599  0.230137  0.011714\n",
      "(28923.0, 57845.0]    2118  26804  0.129642  0.003557\n",
      "(57845.0, 86767.0]    1495  27427 -0.241681  0.010524\n",
      "(86767.0, 115689.0]   1545  27377 -0.206958  0.007833\n",
      "(115689.0, 144611.0]  1904  27018  0.015174  0.000046\n",
      "                      坏客户数   好客户数       woe        iv\n",
      "逾期60-89天笔数                                           \n",
      "(0.999, 28923.0]      1400  27523 -0.310829  0.016902\n",
      "(28923.0, 57845.0]    1523  27399 -0.222104  0.008963\n",
      "(57845.0, 86767.0]    1449  27473 -0.274609  0.013397\n",
      "(86767.0, 115689.0]   1457  27465 -0.268812  0.012869\n",
      "(115689.0, 144611.0]  3557  25365  0.703268  0.134600\n",
      "                      坏客户数   好客户数       woe        iv\n",
      "家属数量                                                 \n",
      "(0.999, 28923.0]      1671  27252 -0.123984  0.002914\n",
      "(28923.0, 57845.0]    1637  27285 -0.145751  0.003989\n",
      "(57845.0, 86767.0]    1583  27339 -0.181272  0.006076\n",
      "(86767.0, 115689.0]   2076  26846  0.108047  0.002447\n",
      "(115689.0, 144611.0]  2419  26503  0.273817  0.016903\n"
     ]
    }
   ],
   "source": [
    "#对于不能采用最优分段的变量采用等深分段\n",
    "\n",
    "def funqcut(y,x,n):\n",
    "    cut1=pd.qcut(x.rank(method='first'),n)  #进行等深分箱，分组\n",
    "    \n",
    "    data=pd.DataFrame({\"x\":x,\"y\":y,\"cut1\":cut1})\n",
    "    cutbad=data.groupby(cut1).y.sum()   #求分组下的坏客户数\n",
    "    cutgood=data.groupby(cut1).y.count()-cutbad #求分组下好客户数\n",
    "    bad=data.y.sum() #求总的坏客户数\n",
    "    good=data.y.count()-bad #求总的好客户数\n",
    "    \n",
    "    woe=np.log((cutbad/bad)/(cutgood/good)) #求各分组的woe\n",
    "    iv=(cutbad/bad-cutgood/good)*woe  #求各分组的iv\n",
    "    \n",
    "    cut=pd.DataFrame({\"坏客户数\":cutbad,\"好客户数\":cutgood,\"woe\":woe,\"iv\":iv})\n",
    "    print(cut)\n",
    "    \n",
    "    return cut#返回表格和对应分组列表\n",
    "\n",
    "#funqcut(train['好坏客户'],train['年龄'],6).reset_index()\n",
    "  \n",
    "x3=funqcut(train['好坏客户'],train['逾期30-59天笔数'],5).reset_index()\n",
    "x6=funqcut(train['好坏客户'],train['信贷数量'],6).reset_index()\n",
    "x7=funqcut(train['好坏客户'],train['逾期90天笔数'],5).reset_index()\n",
    "x8=funqcut(train['好坏客户'],train['固定资产贷款量'],5).reset_index() \n",
    "x9=funqcut(train['好坏客户'],train['逾期60-89天笔数'],5).reset_index()\n",
    "x10=funqcut(train['好坏客户'],train['家属数量'],5).reset_index()"
   ]
  },
  {
   "cell_type": "markdown",
   "metadata": {},
   "source": [
    "#### 2.4.2 WOE和IV值分析\n",
    "\n",
    "前文已经把WOE值计算出来，可视化分析WOE值随着各变量变化情况,WoE分析， 是对指标分箱、计算各个档位的WoE值并观察WoE值随指标变化的趋势。"
   ]
  },
  {
   "cell_type": "code",
   "execution_count": 240,
   "metadata": {},
   "outputs": [
    {
     "data": {
      "image/png": "[encoded data removed]",
      "text/plain": [
       "<Figure size 1440x1080 with 12 Axes>"
      ]
     },
     "metadata": {
      "needs_background": "light"
     },
     "output_type": "display_data"
    }
   ],
   "source": [
    "#画出各个变量的woe值变化情况\n",
    "fig,axes=plt.subplots(4,3,figsize=(20,15))\n",
    "x1.woe.plot(ax=axes[0,0],title=\"可用额度比值\")\n",
    "x2.woe.plot(ax=axes[0,1],title=\"年龄\")\n",
    "x3.woe.plot(ax=axes[0,2],title=\"逾期30-59天笔数\")\n",
    "x4.woe.plot(ax=axes[1,0],title=\"负债率\")\n",
    "x5.woe.plot(ax=axes[1,1],title=\"月收入\")\n",
    "x6.woe.plot(ax=axes[1,2],title=\"信贷数量\")\n",
    "x7.woe.plot(ax=axes[2,0],title=\"逾期90天笔数\")\n",
    "x8.woe.plot(ax=axes[2,1],title=\"固定资产贷款量\")\n",
    "x9.woe.plot(ax=axes[2,2],title=\"逾期60-89天笔数\")\n",
    "x10.woe.plot(ax=axes[3,0],title=\"家属数量\")\n",
    "plt.show()"
   ]
  },
  {
   "cell_type": "markdown",
   "metadata": {},
   "source": [
    "上图为各指标与woe值的关系变化图，大部分都呈现单调变化，而固定资产贷款量和信贷数量大致呈先U型。\n",
    "\n",
    "接下来，我进一步计算每个变量的Infomation Value（IV）。IV指标是一般用来确定自变量的预测能力。\n",
    "\n",
    "![替代文字](2-4.png)\n",
    "\n",
    "通过IV值判断变量预测能力的标准是：\n",
    "\n",
    "< 0.02: unpredictive\n",
    "\n",
    "0.02 to 0.1: weak\n",
    "\n",
    "0.1 to 0.3: medium\n",
    "\n",
    "0.3 to 0.5: strong\n",
    "\n",
    "$>$ 0.5: suspicious"
   ]
  },
  {
   "cell_type": "code",
   "execution_count": 275,
   "metadata": {},
   "outputs": [],
   "source": [
    "# IV的实现放在mono_bin()函数里面，代码实现如下：\n",
    "\n",
    "# 定义自动分箱函数\n",
    "def mono_bin(Y, X, n = 20):\n",
    "    r = 0\n",
    "    good=Y.sum()\n",
    "    bad=Y.count()-good\n",
    "    while np.abs(r) < 1:\n",
    "        d1 = pd.DataFrame({\"X\": X, \"Y\": Y, \"Bucket\": pd.qcut(X, n,duplicates=\"drop\")}) \n",
    "        # 后面报错You can drop duplicate edges by setting the 'duplicates' kwarg，所以回到这里补充duplicates参数\n",
    "        # pandas中使用qcut()，边界易出现重复值，如果为了删除重复值设置 duplicates=‘drop’，则易出现于分片个数少于指定个数的问题\n",
    "        # 经尝试，设置duplicates参数为“drop”可行，而不能设置为“raise”。\n",
    "        d2 = d1.groupby('Bucket', as_index = True)\n",
    "        r, p = stats.spearmanr(d2.mean().X, d2.mean().Y)\n",
    "        n = n - 1\n",
    "    d3 = pd.DataFrame(d2.X.min(), columns = ['min'])\n",
    "    d3['min']=d2.min().X\n",
    "    d3['max'] = d2.max().X\n",
    "    d3['sum'] = d2.sum().Y\n",
    "    d3['total'] = d2.count().Y\n",
    "    d3['rate'] = d2.mean().Y\n",
    "    d3['woe']=np.log((d3['rate']/(1-d3['rate']))/(good/bad))\n",
    "    d3['goodattribute']=d3['sum']/good\n",
    "    d3['badattribute']=(d3['total']-d3['sum'])/bad\n",
    "    iv=((d3['goodattribute']-d3['badattribute'])*d3['woe']).sum()\n",
    "    d4 = (d3.sort_values(by = 'min')).reset_index(drop=True)\n",
    "    #print(\"=\" * 60)\n",
    "    #print(d4)\n",
    "    cut=[]\n",
    "    cut.append(float('-inf'))\n",
    "    for i in range(1,n+1):\n",
    "        qua=X.quantile(i/(n+1))\n",
    "        cut.append(round(qua,4))\n",
    "    cut.append(float('inf'))\n",
    "    woe=list(d4['woe'].round(3))\n",
    "    #return d4,iv,cut,woe 这里我们只需要iv\n",
    "    return iv"
   ]
  },
  {
   "cell_type": "code",
   "execution_count": 276,
   "metadata": {},
   "outputs": [
    {
     "name": "stdout",
     "output_type": "stream",
     "text": [
      "0.9675169222078509\n"
     ]
    }
   ],
   "source": [
    "ivx1= mono_bin(train['好坏客户'],train['可用额度比值'],n=10)\n",
    "ivx2= mono_bin(train['好坏客户'],train['年龄'], n=10)\n",
    "ivx4= mono_bin(train['好坏客户'],train['负债率'], n=20)\n",
    "ivx5= mono_bin(train['好坏客户'],train['月收入'], n=10)\n",
    "print (ivx1)\n",
    "# 连续变量离散化\n",
    "ivx3=x3.iv.sum()\n",
    "ivx6=x6.iv.sum()\n",
    "ivx7=x7.iv.sum()\n",
    "ivx8=x8.iv.sum()\n",
    "ivx9=x9.iv.sum()\n",
    "ivx10=x10.iv.sum()"
   ]
  },
  {
   "cell_type": "code",
   "execution_count": 277,
   "metadata": {},
   "outputs": [
    {
     "data": {
      "image/png": "[encoded data removed]",
      "text/plain": [
       "<Figure size 1152x576 with 1 Axes>"
      ]
     },
     "metadata": {
      "needs_background": "light"
     },
     "output_type": "display_data"
    }
   ],
   "source": [
    "ivlist=[ivx1,ivx2,ivx3,ivx4,ivx5,ivx6,ivx7,ivx8,ivx9,ivx10]#各变量IV\n",
    "index=['可用额度比值','年龄','逾期30-59天笔数','负债率','月收入','信贷数量','逾期90天笔数','固定资产贷款量',\n",
    "       '逾期60-89天笔数','家属数量']#x轴的标签\n",
    "fig1 = plt.figure(figsize = (16,8))\n",
    "ax1 = fig1.add_subplot(1, 1, 1)\n",
    "x = np.arange(len(index))+1\n",
    "ax1.bar(x, ivlist, width=0.4)#生成柱状图\n",
    "ax1.set_xticks(x)\n",
    "ax1.set_xticklabels(index, rotation=0, fontsize=12)\n",
    "ax1.set_ylabel('IV(Information Value)', fontsize=14)\n",
    "#在柱状图上添加数字标签\n",
    "for a, b in zip(x, ivlist):\n",
    "    plt.text(a, b + 0.01, '%.4f' % b, ha='center', va='bottom', fontsize=10)\n",
    "plt.show()\n",
    "\n",
    "# 输出的各变量IV图，如下。\n",
    "# 可以看出，负债率(x4)、月收入(x5)、信贷数量(x6)、固定资产贷款量(x8)和家属数量(x10)变量的IV值明显较低，所以予以删除。"
   ]
  },
  {
   "cell_type": "markdown",
   "metadata": {},
   "source": [
    "### 2.5 模型开发"
   ]
  },
  {
   "cell_type": "markdown",
   "metadata": {},
   "source": [
    "#### 2.5.1 WOE转换"
   ]
  },
  {
   "cell_type": "markdown",
   "metadata": {},
   "source": [
    "证据权重（Weight of Evidence,WOE）转换可以将Logistic回归模型转变为标准评分卡格式。引入WOE转换的目的并不是为了提高模型质量，只是一些变量不应该被纳入模型，这或者是因为它们不能增加模型值，或者是因为与其模型相关系数有关的误差较大，其实建立标准信用评分卡也可以不采用WOE转换。这种情况下，Logistic回归模型需要处理更大数量的自变量。尽管这样会增加建模程序的复杂性，但最终得到的评分卡都是一样的。\n",
    "在建立模型之前，我们需要将筛选后的变量转换为WoE值，便于信用评分。"
   ]
  },
  {
   "cell_type": "code",
   "execution_count": 278,
   "metadata": {},
   "outputs": [
    {
     "data": {
      "text/plain": [
       "0    3\n",
       "1    3\n",
       "2    3\n",
       "3    2\n",
       "5    2\n",
       "Name: 可用额度比值, dtype: int64"
      ]
     },
     "execution_count": 278,
     "metadata": {},
     "output_type": "execute_result"
    }
   ],
   "source": [
    "#利用前文的等深分段分箱设定，将各个变量的分箱后情况保存为cut1,cut2，cut3...与所得到的分箱情况总结表相对应。其中采用x2/x4/x5采用最优分段的结果\n",
    "def cutdata(x,n):\n",
    "    a=pd.qcut(x.rank(method='first'),n,labels=False)#等深分组，label=False返回整数值（0,1,2,3...）对应第一类、第二类..\n",
    "    return a\n",
    "#连续变量均被等深分为了5类 \n",
    "\n",
    "#应用函数，求出各变量分类情况 \n",
    "cut1=cutdata(train['可用额度比值'],4)\n",
    "cut2=cutdata(train['年龄'],17)\n",
    "cut3=cutdata(train['逾期30-59天笔数'],5)\n",
    "cut4=cutdata(train['负债率'],3)\n",
    "cut5=cutdata(train['月收入'],5)\n",
    "cut6=cutdata(train['信贷数量'],6)\n",
    "cut7=cutdata(train['逾期90天笔数'],5)\n",
    "cut8=cutdata(train['固定资产贷款量'],5)\n",
    "cut9=cutdata(train['逾期60-89天笔数'],5)\n",
    "cut10=cutdata(train['家属数量'],5)\n",
    "\n",
    "cut1.head()"
   ]
  },
  {
   "cell_type": "code",
   "execution_count": 279,
   "metadata": {},
   "outputs": [
    {
     "data": {
      "text/html": [
       "<div>\n",
       "<style scoped>\n",
       "    .dataframe tbody tr th:only-of-type {\n",
       "        vertical-align: middle;\n",
       "    }\n",
       "\n",
       "    .dataframe tbody tr th {\n",
       "        vertical-align: top;\n",
       "    }\n",
       "\n",
       "    .dataframe thead th {\n",
       "        text-align: right;\n",
       "    }\n",
       "</style>\n",
       "<table border=\"1\" class=\"dataframe\">\n",
       "  <thead>\n",
       "    <tr style=\"text-align: right;\">\n",
       "      <th></th>\n",
       "      <th>好坏客户</th>\n",
       "      <th>可用额度比值</th>\n",
       "      <th>年龄</th>\n",
       "      <th>逾期30-59天笔数</th>\n",
       "      <th>负债率</th>\n",
       "      <th>月收入</th>\n",
       "      <th>信贷数量</th>\n",
       "      <th>逾期90天笔数</th>\n",
       "      <th>固定资产贷款量</th>\n",
       "      <th>逾期60-89天笔数</th>\n",
       "      <th>家属数量</th>\n",
       "    </tr>\n",
       "  </thead>\n",
       "  <tbody>\n",
       "    <tr>\n",
       "      <th>0</th>\n",
       "      <td>1</td>\n",
       "      <td>1.091082</td>\n",
       "      <td>0.213164</td>\n",
       "      <td>1.051463</td>\n",
       "      <td>0.188061</td>\n",
       "      <td>-0.224685</td>\n",
       "      <td>-0.118260</td>\n",
       "      <td>-0.393407</td>\n",
       "      <td>0.015174</td>\n",
       "      <td>-0.310829</td>\n",
       "      <td>0.108047</td>\n",
       "    </tr>\n",
       "    <tr>\n",
       "      <th>1</th>\n",
       "      <td>0</td>\n",
       "      <td>1.091082</td>\n",
       "      <td>0.328443</td>\n",
       "      <td>-0.508462</td>\n",
       "      <td>-0.145507</td>\n",
       "      <td>0.300052</td>\n",
       "      <td>0.410430</td>\n",
       "      <td>-0.393407</td>\n",
       "      <td>0.230137</td>\n",
       "      <td>-0.310829</td>\n",
       "      <td>-0.181272</td>\n",
       "    </tr>\n",
       "    <tr>\n",
       "      <th>2</th>\n",
       "      <td>0</td>\n",
       "      <td>1.091082</td>\n",
       "      <td>0.396406</td>\n",
       "      <td>1.051463</td>\n",
       "      <td>-0.145507</td>\n",
       "      <td>0.300052</td>\n",
       "      <td>0.410430</td>\n",
       "      <td>0.860426</td>\n",
       "      <td>0.230137</td>\n",
       "      <td>-0.310829</td>\n",
       "      <td>-0.123984</td>\n",
       "    </tr>\n",
       "    <tr>\n",
       "      <th>3</th>\n",
       "      <td>0</td>\n",
       "      <td>-0.285840</td>\n",
       "      <td>0.561473</td>\n",
       "      <td>-0.508462</td>\n",
       "      <td>-0.145507</td>\n",
       "      <td>0.300052</td>\n",
       "      <td>-0.070737</td>\n",
       "      <td>-0.393407</td>\n",
       "      <td>0.230137</td>\n",
       "      <td>-0.310829</td>\n",
       "      <td>-0.123984</td>\n",
       "    </tr>\n",
       "    <tr>\n",
       "      <th>5</th>\n",
       "      <td>0</td>\n",
       "      <td>-0.285840</td>\n",
       "      <td>-1.007214</td>\n",
       "      <td>-0.508462</td>\n",
       "      <td>-0.069624</td>\n",
       "      <td>0.258555</td>\n",
       "      <td>0.410430</td>\n",
       "      <td>-0.393407</td>\n",
       "      <td>0.129642</td>\n",
       "      <td>-0.310829</td>\n",
       "      <td>-0.181272</td>\n",
       "    </tr>\n",
       "  </tbody>\n",
       "</table>\n",
       "</div>"
      ],
      "text/plain": [
       "   好坏客户    可用额度比值        年龄  逾期30-59天笔数       负债率       月收入      信贷数量  \\\n",
       "0     1  1.091082  0.213164    1.051463  0.188061 -0.224685 -0.118260   \n",
       "1     0  1.091082  0.328443   -0.508462 -0.145507  0.300052  0.410430   \n",
       "2     0  1.091082  0.396406    1.051463 -0.145507  0.300052  0.410430   \n",
       "3     0 -0.285840  0.561473   -0.508462 -0.145507  0.300052 -0.070737   \n",
       "5     0 -0.285840 -1.007214   -0.508462 -0.069624  0.258555  0.410430   \n",
       "\n",
       "    逾期90天笔数   固定资产贷款量  逾期60-89天笔数      家属数量  \n",
       "0 -0.393407  0.015174   -0.310829  0.108047  \n",
       "1 -0.393407  0.230137   -0.310829 -0.181272  \n",
       "2  0.860426  0.230137   -0.310829 -0.123984  \n",
       "3 -0.393407  0.230137   -0.310829 -0.123984  \n",
       "5 -0.393407  0.129642   -0.310829 -0.181272  "
      ]
     },
     "execution_count": 279,
     "metadata": {},
     "output_type": "execute_result"
    }
   ],
   "source": [
    "#依据变量值的分类替换成对应的woe值\n",
    "def replace_train(cut,cut_woe):  #定义替换函数，cut为分组情况，cut_woe为分组对应woe值\n",
    "    a=[]\n",
    "    for i in cut.unique(): #unique为去重，保留唯一值\n",
    "        a.append(i)\n",
    "        a.sort()  #排序，默认小到大，得到类别列表并排序，实则为[0,1,2,3,4]\n",
    "    for m in range(len(a)):\n",
    "        cut.replace(a[m],cut_woe.values[m],inplace=True) #替换函数，把cut中旧数值a[m]即分类替换为对应woe,cut_woe中的woe也是从小到大排序，因此与a[m]对应，正如把cut中的0替换为woe值，没有改变cut的数值顺序\n",
    "    return cut  #返回被替换后的列表\n",
    "\n",
    "#应用上述函数进行数值替换，cut1,cut2...保存了变量分组，x1,x2..保存了woe、iv等值\n",
    "train_new=pd.DataFrame() #创建新数据框保存替换后的新数据\n",
    "train_new['好坏客户']=train['好坏客户']\n",
    "train_new['可用额度比值']=replace_train(cut1,x1.woe)\n",
    "train_new['年龄']=replace_train(cut2,x2.woe)\n",
    "train_new['逾期30-59天笔数']=replace_train(cut3,x3.woe)\n",
    "train_new['负债率']=replace_train(cut4,x4.woe)\n",
    "train_new['月收入']=replace_train(cut5,x5.woe)\n",
    "train_new['信贷数量']=replace_train(cut6,x6.woe)\n",
    "train_new['逾期90天笔数']=replace_train(cut7,x7.woe)\n",
    "train_new['固定资产贷款量']=replace_train(cut8,x8.woe)\n",
    "train_new['逾期60-89天笔数']=replace_train(cut9,x9.woe)\n",
    "train_new['家属数量']=replace_train(cut10,x10.woe)\n",
    "train_new.head()"
   ]
  },
  {
   "cell_type": "markdown",
   "metadata": {},
   "source": [
    "#### 2.5.2 逻辑回归模型建立"
   ]
  },
  {
   "cell_type": "code",
   "execution_count": 282,
   "metadata": {},
   "outputs": [
    {
     "data": {
      "text/plain": [
       "0.9388376032914981"
      ]
     },
     "execution_count": 282,
     "metadata": {},
     "output_type": "execute_result"
    }
   ],
   "source": [
    "from sklearn.linear_model import LogisticRegression  #导入logistic回归模块\n",
    "from sklearn.model_selection import train_test_split #导入数据切分函数\n",
    "\n",
    "#根据前文的变量选择分析，将负债率、月收入、信贷数量、固定资产贷款量、家属数量变量舍弃，不纳入模型中\n",
    "train_new1=train_new.drop([\"负债率\",\"月收入\",\"信贷数量\",\"固定资产贷款量\",\"家属数量\"],axis=1)\n",
    "train_new1.head()\n",
    "x=train_new1.iloc[:,1:] #设定自变量\n",
    "y=train_new.iloc[:,0] #设定因变量\n",
    "\n",
    "#将数据集进行切割，分成训练集和测试集，其中样本占比0.8，采用随机抽样 \n",
    "train_x,test_x,train_y,test_y=train_test_split(x,y,train_size=0.8,random_state=4)\n",
    "\n",
    "#建立模型\n",
    "model=LogisticRegression()\n",
    "result=model.fit(train_x,train_y) #训练模型，将结果保存为result\n",
    "pred_y=model.predict(test_x)  #预测测试集的y\n",
    "result.score(test_x,test_y)    #计算预测精度 正确率"
   ]
  },
  {
   "cell_type": "markdown",
   "metadata": {},
   "source": [
    "### 2.6 模型评估"
   ]
  },
  {
   "cell_type": "markdown",
   "metadata": {},
   "source": [
    "在分类模型评估中，最常用的两种评估标准是K-S值和AUC值，AUC值可以在样本不均衡的情况下准确评估模型的好坏，而K-S值不仅能够评估预测的准确与否，还能度量模型对好坏客户是否有足够的区分度。\n",
    "\n",
    "![替代文字](3-1.png)\n",
    "\n",
    "AUC（Area Under the ROC Curve）指标是在二分类问题中，模型评估阶段常被用作最重要的评估指标来衡量模型的稳定性。\n",
    "\n",
    "根据混淆矩阵，我们可以得到另外两个指标：\n",
    "\n",
    "真正例率，True Positive Rate：TPR = TP/ (TP+FN)\n",
    "\n",
    "假正例率， False Postive Rate：FPR = FP/(TN+FP)\n",
    "\n",
    "另外，真正率是正确预测到的正例数与实际正例数的比值，所以又称为灵敏度（敏感性，sensitive）；\n",
    "\n",
    "对应于灵敏度有一个特异度（特效性，specificity）是正确预测到的负例数与实际负例数的比值（NPV = TN / (TN+FN)）。\n",
    "\n",
    "我们以真正例率（TPR）作为纵轴，以假正例率（FPR）作为横轴作图，便得到了ROC曲线，而AUC则是ROC曲线下的面积。AUC的取值为[0.5-1]，0.5对应于对角线的“随机猜测模型”。\n",
    "\n",
    "![替代文字](3-2.png)"
   ]
  },
  {
   "cell_type": "code",
   "execution_count": 285,
   "metadata": {
    "scrolled": true
   },
   "outputs": [
    {
     "data": {
      "image/png": "[encoded data removed]",
      "text/plain": [
       "<Figure size 432x288 with 1 Axes>"
      ]
     },
     "metadata": {
      "needs_background": "light"
     },
     "output_type": "display_data"
    },
    {
     "name": "stdout",
     "output_type": "stream",
     "text": [
      "0.8186616165327648\n"
     ]
    }
   ],
   "source": [
    "#利用sklearn.metrics计算ROC和AUC值\n",
    "from sklearn.metrics import  roc_curve, auc  #导入函数\n",
    "proba_y=model.predict_proba(test_x)  #预测概率predict_proba：\n",
    "'''返回的是一个n行k列的数组，第i行第j列上的数值是模型预测第i个预测样本的标签为j的概率，此时每一行的和应该等于1。'''\n",
    "fpr,tpr,threshold=roc_curve(test_y,proba_y[:,1])  #计算threshold阈值，tpr真正例率，fpr假正例率，大于阈值的视为1即坏客户\n",
    "roc_auc=auc(fpr,tpr)   #计算AUC值\n",
    "\n",
    "plt.plot(fpr,tpr,'b',label= 'AUC= %0.2f' % roc_auc) #生成roc曲线\n",
    "plt.legend(loc='lower right')\n",
    "plt.plot([0,1],[0,1],'r--')\n",
    "plt.xlim([0,1])\n",
    "plt.ylim([0,1])\n",
    "plt.ylabel('真正率')\n",
    "plt.xlabel('假正率')\n",
    "plt.show()\n",
    "print(roc_auc)"
   ]
  },
  {
   "cell_type": "markdown",
   "metadata": {},
   "source": [
    "![替代文字](3-3.png)"
   ]
  },
  {
   "cell_type": "code",
   "execution_count": 287,
   "metadata": {},
   "outputs": [
    {
     "data": {
      "image/png": "[encoded data removed]",
      "text/plain": [
       "<Figure size 432x288 with 1 Axes>"
      ]
     },
     "metadata": {
      "needs_background": "light"
     },
     "output_type": "display_data"
    },
    {
     "name": "stdout",
     "output_type": "stream",
     "text": [
      "ks值为： 0.4893125128108575\n"
     ]
    }
   ],
   "source": [
    "#KS值\n",
    "dataks=pd.DataFrame({\"fpr\":fpr,\"tpr\":tpr,\"threshold\":threshold})\n",
    "\n",
    "dataks.head()\n",
    "dataks=dataks.sort_values([\"threshold\"])\n",
    "plt.plot(dataks.iloc[:,2],dataks['fpr'],label='fpr')\n",
    "plt.plot(dataks.iloc[:,2],dataks['tpr'],label='tpr')\n",
    "plt.xlim([0,1])\n",
    "plt.legend(loc='upper left')\n",
    "plt.show()\n",
    "ks=max(tpr-fpr)\n",
    "print(\"ks值为：\",ks)"
   ]
  },
  {
   "cell_type": "markdown",
   "metadata": {},
   "source": [
    "### 2.7 信用评分"
   ]
  },
  {
   "cell_type": "markdown",
   "metadata": {},
   "source": [
    "将所构建的logistic模型转换位标准评分卡形式。依然参照：信用评分卡模型的理论准备\n",
    "![替代文字](4-1.png)\n",
    "![替代文字](4-2.png)\n",
    "A为偏移量offset，B为比例因子factor，logistic回归中默认阈值等于0.5，即p=0.5，此时score=A，即评分阈值为A，p（违约率）越大，score越小，因此评分值小于A的应该判断为违约，评分值越低，违约率越高。"
   ]
  },
  {
   "cell_type": "code",
   "execution_count": 289,
   "metadata": {},
   "outputs": [
    {
     "data": {
      "text/plain": [
       "array([630.71273052])"
      ]
     },
     "execution_count": 289,
     "metadata": {},
     "output_type": "execute_result"
    }
   ],
   "source": [
    "#假设比例即违约与正常比v为1/70,此时预期分值Z为700，PDD（比率翻倍的分数）为30\n",
    "#B=PDD/log(2)\n",
    "#A=Z+B*log(v)\n",
    "#计算A、B\n",
    "B=30/np.log(2)\n",
    "A=700+B*np.log(1/70)\n",
    "\n",
    "#计算基础分值A-BP0，参考上文\n",
    "c=result.intercept_ #输出logistic模型的截距项\n",
    "coef=result.coef_   #输出回归参数\n",
    "BaseScore=A-B*c    #计算基础分值\n",
    "BaseScore"
   ]
  },
  {
   "cell_type": "code",
   "execution_count": 290,
   "metadata": {},
   "outputs": [
    {
     "data": {
      "text/plain": [
       "'可用额度比值'"
      ]
     },
     "metadata": {},
     "output_type": "display_data"
    },
    {
     "data": {
      "text/html": [
       "<div>\n",
       "<style scoped>\n",
       "    .dataframe tbody tr th:only-of-type {\n",
       "        vertical-align: middle;\n",
       "    }\n",
       "\n",
       "    .dataframe tbody tr th {\n",
       "        vertical-align: top;\n",
       "    }\n",
       "\n",
       "    .dataframe thead th {\n",
       "        text-align: right;\n",
       "    }\n",
       "</style>\n",
       "<table border=\"1\" class=\"dataframe\">\n",
       "  <thead>\n",
       "    <tr style=\"text-align: right;\">\n",
       "      <th></th>\n",
       "      <th>分组</th>\n",
       "      <th>得分</th>\n",
       "    </tr>\n",
       "  </thead>\n",
       "  <tbody>\n",
       "    <tr>\n",
       "      <th>0</th>\n",
       "      <td>0.000000</td>\n",
       "      <td>-47.0</td>\n",
       "    </tr>\n",
       "    <tr>\n",
       "      <th>1</th>\n",
       "      <td>0.030538</td>\n",
       "      <td>-44.0</td>\n",
       "    </tr>\n",
       "    <tr>\n",
       "      <th>2</th>\n",
       "      <td>0.155526</td>\n",
       "      <td>-10.0</td>\n",
       "    </tr>\n",
       "    <tr>\n",
       "      <th>3</th>\n",
       "      <td>0.548934</td>\n",
       "      <td>39.0</td>\n",
       "    </tr>\n",
       "  </tbody>\n",
       "</table>\n",
       "</div>"
      ],
      "text/plain": [
       "         分组    得分\n",
       "0  0.000000 -47.0\n",
       "1  0.030538 -44.0\n",
       "2  0.155526 -10.0\n",
       "3  0.548934  39.0"
      ]
     },
     "metadata": {},
     "output_type": "display_data"
    },
    {
     "data": {
      "text/plain": [
       "'年龄'"
      ]
     },
     "metadata": {},
     "output_type": "display_data"
    },
    {
     "data": {
      "text/html": [
       "<div>\n",
       "<style scoped>\n",
       "    .dataframe tbody tr th:only-of-type {\n",
       "        vertical-align: middle;\n",
       "    }\n",
       "\n",
       "    .dataframe tbody tr th {\n",
       "        vertical-align: top;\n",
       "    }\n",
       "\n",
       "    .dataframe thead th {\n",
       "        text-align: right;\n",
       "    }\n",
       "</style>\n",
       "<table border=\"1\" class=\"dataframe\">\n",
       "  <thead>\n",
       "    <tr style=\"text-align: right;\">\n",
       "      <th></th>\n",
       "      <th>分组</th>\n",
       "      <th>得分</th>\n",
       "    </tr>\n",
       "  </thead>\n",
       "  <tbody>\n",
       "    <tr>\n",
       "      <th>0</th>\n",
       "      <td>0</td>\n",
       "      <td>13.0</td>\n",
       "    </tr>\n",
       "    <tr>\n",
       "      <th>1</th>\n",
       "      <td>31</td>\n",
       "      <td>12.0</td>\n",
       "    </tr>\n",
       "    <tr>\n",
       "      <th>2</th>\n",
       "      <td>35</td>\n",
       "      <td>9.0</td>\n",
       "    </tr>\n",
       "    <tr>\n",
       "      <th>3</th>\n",
       "      <td>39</td>\n",
       "      <td>8.0</td>\n",
       "    </tr>\n",
       "    <tr>\n",
       "      <th>4</th>\n",
       "      <td>42</td>\n",
       "      <td>7.0</td>\n",
       "    </tr>\n",
       "    <tr>\n",
       "      <th>5</th>\n",
       "      <td>44</td>\n",
       "      <td>5.0</td>\n",
       "    </tr>\n",
       "    <tr>\n",
       "      <th>6</th>\n",
       "      <td>47</td>\n",
       "      <td>4.0</td>\n",
       "    </tr>\n",
       "    <tr>\n",
       "      <th>7</th>\n",
       "      <td>49</td>\n",
       "      <td>4.0</td>\n",
       "    </tr>\n",
       "    <tr>\n",
       "      <th>8</th>\n",
       "      <td>51</td>\n",
       "      <td>3.0</td>\n",
       "    </tr>\n",
       "    <tr>\n",
       "      <th>9</th>\n",
       "      <td>54</td>\n",
       "      <td>-0.0</td>\n",
       "    </tr>\n",
       "    <tr>\n",
       "      <th>10</th>\n",
       "      <td>56</td>\n",
       "      <td>-6.0</td>\n",
       "    </tr>\n",
       "    <tr>\n",
       "      <th>11</th>\n",
       "      <td>59</td>\n",
       "      <td>-8.0</td>\n",
       "    </tr>\n",
       "    <tr>\n",
       "      <th>12</th>\n",
       "      <td>62</td>\n",
       "      <td>-12.0</td>\n",
       "    </tr>\n",
       "    <tr>\n",
       "      <th>13</th>\n",
       "      <td>64</td>\n",
       "      <td>-18.0</td>\n",
       "    </tr>\n",
       "    <tr>\n",
       "      <th>14</th>\n",
       "      <td>67</td>\n",
       "      <td>-23.0</td>\n",
       "    </tr>\n",
       "    <tr>\n",
       "      <th>15</th>\n",
       "      <td>71</td>\n",
       "      <td>-23.0</td>\n",
       "    </tr>\n",
       "    <tr>\n",
       "      <th>16</th>\n",
       "      <td>77</td>\n",
       "      <td>-27.0</td>\n",
       "    </tr>\n",
       "  </tbody>\n",
       "</table>\n",
       "</div>"
      ],
      "text/plain": [
       "    分组    得分\n",
       "0    0  13.0\n",
       "1   31  12.0\n",
       "2   35   9.0\n",
       "3   39   8.0\n",
       "4   42   7.0\n",
       "5   44   5.0\n",
       "6   47   4.0\n",
       "7   49   4.0\n",
       "8   51   3.0\n",
       "9   54  -0.0\n",
       "10  56  -6.0\n",
       "11  59  -8.0\n",
       "12  62 -12.0\n",
       "13  64 -18.0\n",
       "14  67 -23.0\n",
       "15  71 -23.0\n",
       "16  77 -27.0"
      ]
     },
     "metadata": {},
     "output_type": "display_data"
    },
    {
     "data": {
      "text/plain": [
       "'逾期30-59天笔数'"
      ]
     },
     "metadata": {},
     "output_type": "display_data"
    },
    {
     "data": {
      "text/html": [
       "<div>\n",
       "<style scoped>\n",
       "    .dataframe tbody tr th:only-of-type {\n",
       "        vertical-align: middle;\n",
       "    }\n",
       "\n",
       "    .dataframe tbody tr th {\n",
       "        vertical-align: top;\n",
       "    }\n",
       "\n",
       "    .dataframe thead th {\n",
       "        text-align: right;\n",
       "    }\n",
       "</style>\n",
       "<table border=\"1\" class=\"dataframe\">\n",
       "  <thead>\n",
       "    <tr style=\"text-align: right;\">\n",
       "      <th></th>\n",
       "      <th>分组</th>\n",
       "      <th>得分</th>\n",
       "    </tr>\n",
       "  </thead>\n",
       "  <tbody>\n",
       "    <tr>\n",
       "      <th>0</th>\n",
       "      <td>(0.999, 28923.0]</td>\n",
       "      <td>-14.0</td>\n",
       "    </tr>\n",
       "    <tr>\n",
       "      <th>1</th>\n",
       "      <td>(28923.0, 57845.0]</td>\n",
       "      <td>-14.0</td>\n",
       "    </tr>\n",
       "    <tr>\n",
       "      <th>2</th>\n",
       "      <td>(57845.0, 86767.0]</td>\n",
       "      <td>-15.0</td>\n",
       "    </tr>\n",
       "    <tr>\n",
       "      <th>3</th>\n",
       "      <td>(86767.0, 115689.0]</td>\n",
       "      <td>-15.0</td>\n",
       "    </tr>\n",
       "    <tr>\n",
       "      <th>4</th>\n",
       "      <td>(115689.0, 144611.0]</td>\n",
       "      <td>29.0</td>\n",
       "    </tr>\n",
       "  </tbody>\n",
       "</table>\n",
       "</div>"
      ],
      "text/plain": [
       "                     分组    得分\n",
       "0      (0.999, 28923.0] -14.0\n",
       "1    (28923.0, 57845.0] -14.0\n",
       "2    (57845.0, 86767.0] -15.0\n",
       "3   (86767.0, 115689.0] -15.0\n",
       "4  (115689.0, 144611.0]  29.0"
      ]
     },
     "metadata": {},
     "output_type": "display_data"
    },
    {
     "data": {
      "text/plain": [
       "'逾期90天笔数'"
      ]
     },
     "metadata": {},
     "output_type": "display_data"
    },
    {
     "data": {
      "text/html": [
       "<div>\n",
       "<style scoped>\n",
       "    .dataframe tbody tr th:only-of-type {\n",
       "        vertical-align: middle;\n",
       "    }\n",
       "\n",
       "    .dataframe tbody tr th {\n",
       "        vertical-align: top;\n",
       "    }\n",
       "\n",
       "    .dataframe thead th {\n",
       "        text-align: right;\n",
       "    }\n",
       "</style>\n",
       "<table border=\"1\" class=\"dataframe\">\n",
       "  <thead>\n",
       "    <tr style=\"text-align: right;\">\n",
       "      <th></th>\n",
       "      <th>分组</th>\n",
       "      <th>得分</th>\n",
       "    </tr>\n",
       "  </thead>\n",
       "  <tbody>\n",
       "    <tr>\n",
       "      <th>0</th>\n",
       "      <td>(0.999, 28923.0]</td>\n",
       "      <td>-11.0</td>\n",
       "    </tr>\n",
       "    <tr>\n",
       "      <th>1</th>\n",
       "      <td>(28923.0, 57845.0]</td>\n",
       "      <td>-9.0</td>\n",
       "    </tr>\n",
       "    <tr>\n",
       "      <th>2</th>\n",
       "      <td>(57845.0, 86767.0]</td>\n",
       "      <td>-10.0</td>\n",
       "    </tr>\n",
       "    <tr>\n",
       "      <th>3</th>\n",
       "      <td>(86767.0, 115689.0]</td>\n",
       "      <td>-10.0</td>\n",
       "    </tr>\n",
       "    <tr>\n",
       "      <th>4</th>\n",
       "      <td>(115689.0, 144611.0]</td>\n",
       "      <td>23.0</td>\n",
       "    </tr>\n",
       "  </tbody>\n",
       "</table>\n",
       "</div>"
      ],
      "text/plain": [
       "                     分组    得分\n",
       "0      (0.999, 28923.0] -11.0\n",
       "1    (28923.0, 57845.0]  -9.0\n",
       "2    (57845.0, 86767.0] -10.0\n",
       "3   (86767.0, 115689.0] -10.0\n",
       "4  (115689.0, 144611.0]  23.0"
      ]
     },
     "metadata": {},
     "output_type": "display_data"
    },
    {
     "data": {
      "text/plain": [
       "'逾期60-89天笔数'"
      ]
     },
     "metadata": {},
     "output_type": "display_data"
    },
    {
     "data": {
      "text/html": [
       "<div>\n",
       "<style scoped>\n",
       "    .dataframe tbody tr th:only-of-type {\n",
       "        vertical-align: middle;\n",
       "    }\n",
       "\n",
       "    .dataframe tbody tr th {\n",
       "        vertical-align: top;\n",
       "    }\n",
       "\n",
       "    .dataframe thead th {\n",
       "        text-align: right;\n",
       "    }\n",
       "</style>\n",
       "<table border=\"1\" class=\"dataframe\">\n",
       "  <thead>\n",
       "    <tr style=\"text-align: right;\">\n",
       "      <th></th>\n",
       "      <th>分组</th>\n",
       "      <th>得分</th>\n",
       "    </tr>\n",
       "  </thead>\n",
       "  <tbody>\n",
       "    <tr>\n",
       "      <th>0</th>\n",
       "      <td>(0.999, 28923.0]</td>\n",
       "      <td>0.0</td>\n",
       "    </tr>\n",
       "    <tr>\n",
       "      <th>1</th>\n",
       "      <td>(28923.0, 57845.0]</td>\n",
       "      <td>0.0</td>\n",
       "    </tr>\n",
       "    <tr>\n",
       "      <th>2</th>\n",
       "      <td>(57845.0, 86767.0]</td>\n",
       "      <td>0.0</td>\n",
       "    </tr>\n",
       "    <tr>\n",
       "      <th>3</th>\n",
       "      <td>(86767.0, 115689.0]</td>\n",
       "      <td>0.0</td>\n",
       "    </tr>\n",
       "    <tr>\n",
       "      <th>4</th>\n",
       "      <td>(115689.0, 144611.0]</td>\n",
       "      <td>-1.0</td>\n",
       "    </tr>\n",
       "  </tbody>\n",
       "</table>\n",
       "</div>"
      ],
      "text/plain": [
       "                     分组   得分\n",
       "0      (0.999, 28923.0]  0.0\n",
       "1    (28923.0, 57845.0]  0.0\n",
       "2    (57845.0, 86767.0]  0.0\n",
       "3   (86767.0, 115689.0]  0.0\n",
       "4  (115689.0, 144611.0] -1.0"
      ]
     },
     "metadata": {},
     "output_type": "display_data"
    },
    {
     "name": "stdout",
     "output_type": "stream",
     "text": [
      "基础分值为： [630.71273052]\n"
     ]
    }
   ],
   "source": [
    "#计算各个变量各分组的分值B*coef*woe\n",
    "def get_score(x,coef,B):\n",
    "    score=[]\n",
    "    for w in x.woe:\n",
    "        a=round(B*coef*w,0)#四舍五入返回整数\n",
    "        score.append(a)\n",
    "    datascore=pd.DataFrame({\"分组\":x.iloc[:,0],\"得分\":score})\n",
    "    return datascore\n",
    "\n",
    "'''由前文可知，模型采用的自变量有 可用额度比值x1、年龄x2、逾期30-59天笔数x3、逾期90天笔数x7、逾期60-89天笔数x9'''\n",
    "\n",
    "#应用函数，计算各个变量的评分\n",
    "scorex1=get_score(x1,coef[0][0],B)\n",
    "scorex2=get_score(x2,coef[0][1],B)\n",
    "scorex3=get_score(x3,coef[0][2],B)\n",
    "scorex7=get_score(x7,coef[0][3],B)\n",
    "scorex9=get_score(x9,coef[0][4],B)\n",
    "\n",
    "display(\"可用额度比值\",scorex1)\n",
    "display(\"年龄\",scorex2)\n",
    "display(\"逾期30-59天笔数\",scorex3)\n",
    "display(\"逾期90天笔数\",scorex7)\n",
    "display(\"逾期60-89天笔数\",scorex9)\n",
    "print(\"基础分值为：\",BaseScore)"
   ]
  }
 ],
 "metadata": {
  "kernelspec": {
   "display_name": "Python 3",
   "language": "python",
   "name": "python3"
  },
  "language_info": {
   "codemirror_mode": {
    "name": "ipython",
    "version": 3
   },
   "file_extension": ".py",
   "mimetype": "text/x-python",
   "name": "python",
   "nbconvert_exporter": "python",
   "pygments_lexer": "ipython3",
   "version": "3.7.6"
  }
 },
 "nbformat": 4,
 "nbformat_minor": 4
}
